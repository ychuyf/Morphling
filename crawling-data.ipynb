{
  "cells": [
    {
      "cell_type": "markdown",
      "source": [
        "## 爬虫\n",
        "\n",
        "### 响应response\n",
        "\n",
        "一般我们得到的响应数据有两种：\n",
        "\n",
        "- `html`\n",
        "\n",
        "- `json`，书写格式类似于python的字典 \n",
        "\n",
        "之后我们需要解析网页数据才能将干净的数据存储到数据库或者相应的文件中"
      ],
      "metadata": {}
    },
    {
      "cell_type": "markdown",
      "source": [
        "**比较有代表性的是**\n",
        "\n",
        "[**豆瓣读书 https://book.douban.com/tag/小说**](https://book.douban.com/tag/小说)"
      ],
      "metadata": {}
    },
    {
      "cell_type": "markdown",
      "source": [
        "有的网站，我们在页面上看到的内容存在于json文件，而不是html文件。\n",
        "\n",
        "**json文件非常类似于python的字典数据类型**\n",
        "\n",
        "```json\n",
        "{\n",
        "\"sites\": [\n",
        "          { \"name\":\"百度\" , \"url\":\"www.baidu.com\" },\n",
        "          { \"name\":\"google\" , \"url\":\"www.google.com\" },\n",
        "          { \"name\":\"微博\" , \"url\":\"www.weibo.com\" }\n",
        "         ]\n",
        "}\n",
        "```\n"
      ],
      "metadata": {}
    },
    {
      "cell_type": "markdown",
      "source": [
        "### 开发者工具\n",
        "\n",
        "- ``Element面板``：查看网页元素（html网页数据）\n",
        "- ``Network面板``：查看浏览器与网站之间的数据交互信息，多用于**抓包**\n"
      ],
      "metadata": {}
    },
    {
      "cell_type": "markdown",
      "source": [
        "#### 批量生成网址"
      ],
      "metadata": {}
    },
    {
      "cell_type": "code",
      "source": [
        "template = 'https://book.douban.com/tag/小说?start={param}&type=T'\n",
        "import time\n",
        "\n",
        "for page in range(1, 11):\n",
        "    url = template.format(param=(page-1)*20)\n",
        "    print('第{}页url:'.format(page), url)\n",
        "    time.sleep(1)"
      ],
      "outputs": [],
      "execution_count": null,
      "metadata": {}
    },
    {
      "cell_type": "markdown",
      "source": [
        " \n",
        "## 分析网址规律\n",
        "\n",
        "1. 网址包含信息\n",
        "\n",
        "2. 时候需要load `javascript`\n",
        "\n",
        "3. response是否位json数据\n",
        "\n",
        "4. 是否需要用模拟浏览器"
      ],
      "metadata": {}
    },
    {
      "cell_type": "markdown",
      "source": [
        "## requests库"
      ],
      "metadata": {}
    },
    {
      "cell_type": "code",
      "source": [
        "# !pip3 install requests"
      ],
      "outputs": [],
      "execution_count": null,
      "metadata": {}
    },
    {
      "cell_type": "markdown",
      "source": [
        "找到网页url规律后，我们需要将这些url对应的网页数据下载下来，这里就用到[**requests库文档链接**](http://docs.python-requests.org/zh_CN/latest/user/quickstart.html)。\n",
        "\n",
        "**requests两种访问方法** ,两者都返回Response对象：\n",
        "\n",
        "|requests常用函数|参数解读|\n",
        "|:---|:---|\n",
        "|**requests.get(url, params, verify)** |发起get访问，返回**Response对象**；除非需要传参，否则不需要用**params和verify参数**| \n",
        "|**requests.post(url, data)** |发起post访问，返回**Response对象**；除非需要传参，否则不需要用**data参数**| "
      ],
      "metadata": {}
    },
    {
      "cell_type": "code",
      "source": [
        "import requests\n",
        "\n",
        "url = 'https://book.douban.com/tag/小说?start=0&type=T'\n",
        "resp = requests.get(url)  #极少数情况会用到verify=False这参数\n",
        "resp"
      ],
      "outputs": [],
      "execution_count": null,
      "metadata": {}
    },
    {
      "cell_type": "markdown",
      "source": [
        "**注意Response后面带有的状态码：**\n",
        "- 2开头表示访问正常\n",
        "- 4开头，比如403表示爬虫被网站封锁\n",
        "- 5开头表示服务器出问题"
      ],
      "metadata": {}
    },
    {
      "cell_type": "markdown",
      "source": [
        "### Response响应对象\n",
        "\n",
        "|**Response对象的方法**|作用|\n",
        "|:---|:---|\n",
        "|**Response.json()**|获得json格式网页数据|\n",
        "|**Response.text**|获得html网页数据|\n",
        "|**Response.content**|获得网页**二进制文件数据**，常常用该方法爬取**图片、视频**等数据|\n",
        "|**Response.encoding**|更改网页数据的编码方式。除非使用Response.text得到的html中文本是乱码的，否则一般不用Response.encoding|\n",
        "|**Response.status_code**|查看当前访问的状态码， ``200`` 表示访问正常， ``4开头`` 的状态码表示访问出问题， ``5开头`` 的状态码表示服务器出问题|\n",
        "\n",
        "以上三种方法，最常用的是 ``text和json方法``， 分别对应于 ``html网页数据和json网页数据``"
      ],
      "metadata": {}
    },
    {
      "cell_type": "code",
      "source": [
        "resp.text[:200]"
      ],
      "outputs": [],
      "execution_count": null,
      "metadata": {}
    },
    {
      "cell_type": "code",
      "source": [
        "resp.encoding "
      ],
      "outputs": [],
      "execution_count": null,
      "metadata": {}
    },
    {
      "cell_type": "code",
      "source": [
        "# resp.json()"
      ],
      "outputs": [],
      "execution_count": null,
      "metadata": {}
    },
    {
      "cell_type": "markdown",
      "source": [
        "这里经过抓包分析（**爬虫最重要的就是抓包分析**）找到页面对应的url为\n",
        "\n",
        "```\n",
        "https://movie.douban.com/j/new_search_subjects?sort=U&range=0,10&tags=&start=40\n",
        "```"
      ],
      "metadata": {}
    },
    {
      "cell_type": "code",
      "source": [
        "import requests\n",
        "\n",
        "url = 'https://movie.douban.com/j/new_search_subjects?sort=U&range=0,10&tags=&start=40'\n",
        "resp = requests.get(url)\n",
        "\n",
        "resp.json()"
      ],
      "outputs": [],
      "execution_count": null,
      "metadata": {}
    },
    {
      "cell_type": "code",
      "source": [
        "import requests\n",
        "\n",
        "url_template = 'https://movie.douban.com/j/new_search_subjects?sort=U&range=0,10&tags=&start={num}'\n",
        "\n",
        "for p in range(1, 10):\n",
        "    url = url_template.format(num=(p-1)*20)\n",
        "    print(url)"
      ],
      "outputs": [],
      "execution_count": null,
      "metadata": {}
    },
    {
      "cell_type": "markdown",
      "source": [
        "## requests.get()参数\n",
        "\n",
        "### headers - 将爬虫伪装成浏览器\n",
        "为了防止被网站封锁，我们需要将请求头headers加进访问信息中，从而将爬虫伪装成浏览器访问。\n",
        "\n",
        "最常见的headers只有一个**User-Agent参数**即可,**让网站误以为是Chrome浏览器在访问网页数据**。\n",
        "\n",
        "```python\n",
        "import requests\n",
        "\n",
        "headers = {'User-Agent': 'Mozilla/5.0 (Windows NT 6.1; WOW64) AppleWebKit/537.36 (KHTML, like Gecko) Chrome/77.0.3865.90 Safari/537.36'}\n",
        "\n",
        "url = '要访问网页的url'\n",
        "\n",
        "r  = requests.get(url, headers = headers)\n",
        "```\n",
        "\n",
        "**[大众点评杭州酒店页面](http://www.dianping.com/hangzhou/hotel)** 、 http://www.dianping.com/hangzhou/hotel"
      ],
      "metadata": {}
    },
    {
      "cell_type": "code",
      "source": [
        "import requests\n",
        "\n",
        "url = 'http://www.dianping.com/hangzhou/hotel/p4'\n",
        "req = requests.get(url)\n",
        "\n",
        "#403，禁止我们爬虫访问\n",
        "req.text"
      ],
      "outputs": [],
      "execution_count": null,
      "metadata": {
        "collapsed": true,
        "jupyter": {
          "outputs_hidden": true
        }
      }
    },
    {
      "cell_type": "code",
      "source": [
        "import requests\n",
        "\n",
        "url = 'http://www.dianping.com/hangzhou/hotel'\n",
        "headers = {'User-Agent': 'Mozilla/5.0 (Macintosh; Intel Mac OS X 10_13_6) AppleWebKit/537.36 (KHTML, like Gecko) Chrome/72.0.3626.109 Safari/537.36'}\n",
        "req = requests.get(url, headers=headers)\n",
        "\n",
        "#200，经过简单伪装后的爬虫能正常访问\n",
        "req.text"
      ],
      "outputs": [],
      "execution_count": null,
      "metadata": {
        "collapsed": true,
        "jupyter": {
          "outputs_hidden": true
        }
      }
    },
    {
      "cell_type": "markdown",
      "source": [
        "## 模拟浏览器\n",
        "\n",
        "一般的写爬虫的方法是用python脚本直接对目标网站进行访问，而且只对目标数据进行采集，访问速度很快，这样目标网站很容易就识别出你是机器人，然后把你封锁了~~\n",
        "\n",
        "**而**\n",
        "\n",
        "使用selenium写爬虫，python脚本操控浏览器进行访问，也就是说python脚本和目标网站之间多了个浏览器的操作，这样的行为更像是人类行为。这样很多难爬的网站也可以轻而易举的抓数据了。\n",
        "\n",
        "-----\n",
        "\n",
        "**selenium支持**\n",
        "\n",
        "- chromedriver，可操控chrome浏览器 [下载地址](https://chromedriver.chromium.org/downloads)\n",
        "\n",
        "- Firefoxdriver ，可操控Firefox浏览器 [下载地址](https://chromedriver.chromium.org/downloads)"
      ],
      "metadata": {}
    },
    {
      "cell_type": "code",
      "source": [
        "# !pip3 install selenium"
      ],
      "outputs": [],
      "execution_count": null,
      "metadata": {}
    },
    {
      "cell_type": "code",
      "source": [
        "from selenium import webdriver\n",
        "import time\n",
        "\n",
        "#初始化浏览器\n",
        "driver = webdriver.Chrome()"
      ],
      "outputs": [],
      "execution_count": null,
      "metadata": {}
    },
    {
      "cell_type": "code",
      "source": [
        "driver.get('https://www.baidu.com/')\n",
        "\n",
        "driver.find_element_by_xpath('//*[@id=\"kw\"]').clear()\n",
        "driver.find_element_by_xpath('//*[@id=\"kw\"]').send_keys('暨南大学\\n')"
      ],
      "outputs": [],
      "execution_count": null,
      "metadata": {}
    },
    {
      "cell_type": "code",
      "source": [
        "driver.find_element_by_xpath('//*[@id=\"1\"]/h3/a[1]').click()"
      ],
      "outputs": [],
      "execution_count": null,
      "metadata": {}
    },
    {
      "cell_type": "code",
      "source": [
        "p = driver.page_source"
      ],
      "outputs": [],
      "execution_count": null,
      "metadata": {}
    },
    {
      "cell_type": "code",
      "source": [
        "type(p)"
      ],
      "outputs": [],
      "execution_count": null,
      "metadata": {}
    },
    {
      "cell_type": "markdown",
      "source": [
        "## 解析HTML "
      ],
      "metadata": {}
    },
    {
      "cell_type": "code",
      "source": [
        "html_string = open(\"jnu-homepage/暨南大学.html\").read()"
      ],
      "outputs": [],
      "execution_count": null,
      "metadata": {}
    },
    {
      "cell_type": "code",
      "source": [
        "import requests\n",
        "\n",
        "url = 'https://book.douban.com/tag/小说?start=0&type=T'\n",
        "resp = requests.get(url)  #极少数情况会用到verify=False这参数\n",
        "resp"
      ],
      "outputs": [],
      "execution_count": null,
      "metadata": {}
    },
    {
      "cell_type": "code",
      "source": [
        "html_string = resp.text # local html"
      ],
      "outputs": [],
      "execution_count": null,
      "metadata": {}
    },
    {
      "cell_type": "code",
      "source": [
        "type(html_string)"
      ],
      "outputs": [],
      "execution_count": null,
      "metadata": {}
    },
    {
      "cell_type": "code",
      "source": [
        "from pyquery import PyQuery\n",
        "doc = PyQuery(html_string)\n",
        "print(type(doc))"
      ],
      "outputs": [],
      "execution_count": null,
      "metadata": {}
    },
    {
      "cell_type": "markdown",
      "source": [
        "为了定位html中对应的节点及其属性和含有的信息，我们需要使用选择器。\n",
        "\n",
        "\n",
        "\n",
        "|css选择器|例子|解释|\n",
        "|---|---|---|\n",
        "|``.class``|``.intro``|选出``class=\"intro\"``的节点|\n",
        "|``#id``|``#firstname``|选出``id=\"firstname\"``的节点|\n",
        "|element|p|选出所有p标签的节点|\n",
        "|element element|``div p``|选出div节点后辈p的所有节点|\n",
        "|``*``|``#firstname``|选出``id=\"firstname\"``的节点|\n",
        "|``[attribute]``|``[target]``|选出带有 target 属性所有节点|\n",
        "|``[attribute=value]``|``[target=_blank]``|选出 ``target=\"_blank\"`` 的所有节点|\n",
        "\n",
        "\n",
        "常用的css选择器主要有 .class  #id  element 这三种，本文只讲class、id 和lement最常见的css选择器。"
      ],
      "metadata": {}
    },
    {
      "cell_type": "code",
      "source": [
        "div = doc(\"#subject_list > ul > li:nth-child(1)\")\n",
        "print(div)"
      ],
      "outputs": [],
      "execution_count": null,
      "metadata": {}
    },
    {
      "cell_type": "code",
      "source": [
        "div = doc(\".subject-item\")\n",
        "len(div)"
      ],
      "outputs": [],
      "execution_count": null,
      "metadata": {}
    },
    {
      "cell_type": "code",
      "source": [
        "for item in div.items():\n",
        "    print(type(item), item.text() , sep = \"\\t\")"
      ],
      "outputs": [],
      "execution_count": null,
      "metadata": {}
    },
    {
      "cell_type": "code",
      "source": [
        "div = next(div.items())"
      ],
      "outputs": [],
      "execution_count": null,
      "metadata": {}
    },
    {
      "cell_type": "code",
      "source": [
        "print(div)"
      ],
      "outputs": [],
      "execution_count": null,
      "metadata": {}
    },
    {
      "cell_type": "code",
      "source": [
        "print(div(\"a[title]\").text())"
      ],
      "outputs": [],
      "execution_count": null,
      "metadata": {}
    },
    {
      "cell_type": "code",
      "source": [
        "div(\".pub\").text()"
      ],
      "outputs": [],
      "execution_count": null,
      "metadata": {}
    },
    {
      "cell_type": "code",
      "source": [
        "print(div(\".rating_nums\").text())"
      ],
      "outputs": [],
      "execution_count": null,
      "metadata": {}
    },
    {
      "cell_type": "code",
      "source": [
        "print(div(\".pl\").text())"
      ],
      "outputs": [],
      "execution_count": null,
      "metadata": {}
    },
    {
      "cell_type": "code",
      "source": [
        "url = div(\"img\").attr('src')\n",
        "url"
      ],
      "outputs": [],
      "execution_count": null,
      "metadata": {}
    },
    {
      "cell_type": "code",
      "source": [
        "from urllib.request import urlretrieve"
      ],
      "outputs": [],
      "execution_count": null,
      "metadata": {}
    },
    {
      "cell_type": "code",
      "source": [
        "local = url.split(\"/\")[-1]\n",
        "local"
      ],
      "outputs": [],
      "execution_count": null,
      "metadata": {}
    },
    {
      "cell_type": "code",
      "source": [
        "urlretrieve(url, local)"
      ],
      "outputs": [],
      "execution_count": null,
      "metadata": {}
    },
    {
      "cell_type": "markdown",
      "source": [
        "## 爬取企业信用数据"
      ],
      "metadata": {}
    },
    {
      "cell_type": "code",
      "source": [
        "from selenium import webdriver\n",
        "from pyquery import PyQuery\n",
        "import time\n",
        "import re\n",
        "import pandas as pd\n",
        "\n",
        "\n",
        "#存储数据\n",
        "csvf = open('companys.csv', 'w', # encoding='gbk', \n",
        "            newline='')\n",
        "writer = csv.writer(csvf)\n",
        "writer.writerow(('name', 'law_person', 'capital', 'register_date', 'address'))\n",
        "\n",
        "#初始化浏览器\n",
        "driver = webdriver.Chrome(\n",
        "    #executable_path='driver/chromedriver'\n",
        ")\n",
        "\n",
        "url = 'https://xin.baidu.com/s?q=家化&t=0'\n",
        "#打开某个网址\n",
        "driver.get(url)\n",
        "time.sleep(2)\n",
        "\n",
        "for page in range(2, 9):\n",
        "    pagexpath = '/html/body/div[2]/div/div[2]/div[5]/div[2]/div/a[{p}]'.format(p=page)\n",
        "        #定位输入密码框，清除框内信息，再输入你的密码\n",
        "    driver.find_element_by_xpath(pagexpath).click()\n",
        "    time.sleep(1)\n",
        "\n",
        "        #获取该网页的源码\n",
        "    html = driver.page_source\n",
        "    doc = PyQuery(html)\n",
        "    companys = doc.items('.zx-ent-info')\n",
        "    for company in companys:\n",
        "        name = company.find('.zx-list-item-url').attr('title')\n",
        "        law_person = company.find('.legal-txt').attr('title')\n",
        "        capital = str(company.find(\".zx-ent-pre-title\").eq(1)).split('>')[-1]\n",
        "        register_date = str(company.find(\".zx-ent-pre-title\").eq(2)).split('>')[-1]\n",
        "        address = str(company.find(\".zx-ent-pre-title\").eq(3)).split('>')[-1]\n",
        "        writer.writerow((name, law_person, capital, register_date, address))\n",
        "        print(name, law_person, capital, register_date, address)\n",
        "\n",
        "csvf.close()"
      ],
      "outputs": [],
      "execution_count": null,
      "metadata": {}
    },
    {
      "cell_type": "code",
      "source": [],
      "outputs": [],
      "execution_count": null,
      "metadata": {
        "collapsed": false,
        "outputHidden": false,
        "inputHidden": false
      }
    }
  ],
  "metadata": {
    "kernel_info": {
      "name": "python3"
    },
    "kernelspec": {
      "name": "python3",
      "language": "python",
      "display_name": "Python 3"
    },
    "language_info": {
      "name": "python",
      "version": "3.7.3",
      "mimetype": "text/x-python",
      "codemirror_mode": {
        "name": "ipython",
        "version": 3
      },
      "pygments_lexer": "ipython3",
      "nbconvert_exporter": "python",
      "file_extension": ".py"
    },
    "latex_envs": {
      "report_style_numbering": false,
      "hotkeys": {
        "equation": "Ctrl-E",
        "itemize": "Ctrl-I"
      },
      "LaTeX_envs_menu_present": true,
      "autocomplete": true,
      "autoclose": false,
      "eqNumInitial": 1,
      "bibliofile": "biblio.bib",
      "latex_user_defs": false,
      "current_citInitial": 1,
      "eqLabelWithNumbers": true,
      "labels_anchors": false,
      "cite_by": "apalike",
      "user_envs_cfg": false
    },
    "nteract": {
      "version": "0.15.0"
    },
    "toc": {
      "toc_position": {},
      "skip_h1_title": true,
      "number_sections": true,
      "title_cell": "Table of Contents",
      "toc_window_display": true,
      "base_numbering": 1,
      "toc_section_display": true,
      "title_sidebar": "Contents",
      "toc_cell": false,
      "nav_menu": {},
      "sideBar": true
    },
    "varInspector": {
      "cols": {
        "lenName": 16,
        "lenType": 16,
        "lenVar": 40
      },
      "kernels_config": {
        "python": {
          "delete_cmd_postfix": "",
          "delete_cmd_prefix": "del ",
          "library": "var_list.py",
          "varRefreshCmd": "print(var_dic_list())"
        },
        "r": {
          "delete_cmd_postfix": ") ",
          "delete_cmd_prefix": "rm(",
          "library": "var_list.r",
          "varRefreshCmd": "cat(var_dic_list()) "
        }
      },
      "types_to_exclude": [
        "module",
        "function",
        "builtin_function_or_method",
        "instance",
        "_Feature"
      ],
      "window_display": false
    }
  },
  "nbformat": 4,
  "nbformat_minor": 4
}